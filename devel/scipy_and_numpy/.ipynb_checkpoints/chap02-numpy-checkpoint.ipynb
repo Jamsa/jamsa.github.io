{
 "cells": [
  {
   "cell_type": "markdown",
   "metadata": {},
   "source": [
    "# NumPy"
   ]
  },
  {
   "cell_type": "markdown",
   "metadata": {},
   "source": [
    "## NumPy 数组\n",
    "\n",
    "    `ndarray`与list类似，但是它只允许存储一种类型的数据。这样能得更好的弹性。"
   ]
  },
  {
   "cell_type": "code",
   "execution_count": 1,
   "metadata": {
    "collapsed": true
   },
   "outputs": [],
   "source": [
    "import numpy as np"
   ]
  },
  {
   "cell_type": "code",
   "execution_count": 3,
   "metadata": {
    "collapsed": false
   },
   "outputs": [],
   "source": [
    "arr = np.arange(1e7) # 10^7 element\n",
    "larr = arr.tolist()\n",
    "\n",
    "def list_times(alist, scalar):\n",
    "    for i,val in enumerate(alist):\n",
    "        alist[i] = val * scalar\n",
    "    return alist"
   ]
  },
  {
   "cell_type": "code",
   "execution_count": 4,
   "metadata": {
    "collapsed": false
   },
   "outputs": [
    {
     "name": "stdout",
     "output_type": "stream",
     "text": [
      "10 loops, best of 3: 29.9 ms per loop\n"
     ]
    }
   ],
   "source": [
    "# 使用numpy进行计算\n",
    "%timeit arr * 1.1"
   ]
  },
  {
   "cell_type": "code",
   "execution_count": 6,
   "metadata": {
    "collapsed": false
   },
   "outputs": [
    {
     "name": "stdout",
     "output_type": "stream",
     "text": [
      "1 loops, best of 3: 947 ms per loop\n"
     ]
    }
   ],
   "source": [
    "# 纯python计算\n",
    "%timeit list_times(larr,1.1)"
   ]
  },
  {
   "cell_type": "markdown",
   "metadata": {},
   "source": [
    "使用`matrix`进行线性代数操作，与ndarray不同的是matrix对象只能是二维的。"
   ]
  },
  {
   "cell_type": "code",
   "execution_count": 8,
   "metadata": {
    "collapsed": false
   },
   "outputs": [
    {
     "ename": "AttributeError",
     "evalue": "'module' object has no attribute 'zeroes'",
     "output_type": "error",
     "traceback": [
      "\u001b[0;31m---------------------------------------------------------------------------\u001b[0m",
      "\u001b[0;31mAttributeError\u001b[0m                            Traceback (most recent call last)",
      "\u001b[0;32m<ipython-input-8-704c01cd77cc>\u001b[0m in \u001b[0;36m<module>\u001b[0;34m()\u001b[0m\n\u001b[1;32m      1\u001b[0m \u001b[0;31m# 创建3D numpy数组\u001b[0m\u001b[0;34m\u001b[0m\u001b[0;34m\u001b[0m\u001b[0m\n\u001b[0;32m----> 2\u001b[0;31m \u001b[0marr\u001b[0m \u001b[0;34m=\u001b[0m \u001b[0mnp\u001b[0m\u001b[0;34m.\u001b[0m\u001b[0mzeroes\u001b[0m\u001b[0;34m(\u001b[0m\u001b[0;36m3\u001b[0m\u001b[0;34m,\u001b[0m\u001b[0;36m3\u001b[0m\u001b[0;34m,\u001b[0m\u001b[0;36m3\u001b[0m\u001b[0;34m)\u001b[0m\u001b[0;34m\u001b[0m\u001b[0m\n\u001b[0m\u001b[1;32m      3\u001b[0m \u001b[0;34m\u001b[0m\u001b[0m\n\u001b[1;32m      4\u001b[0m \u001b[0;31m# 将ndarray转为matrix\u001b[0m\u001b[0;34m\u001b[0m\u001b[0;34m\u001b[0m\u001b[0m\n\u001b[1;32m      5\u001b[0m \u001b[0mmat\u001b[0m \u001b[0;34m=\u001b[0m \u001b[0mnp\u001b[0m\u001b[0;34m.\u001b[0m\u001b[0mmatrix\u001b[0m\u001b[0;34m(\u001b[0m\u001b[0marr\u001b[0m\u001b[0;34m)\u001b[0m\u001b[0;34m\u001b[0m\u001b[0m\n",
      "\u001b[0;31mAttributeError\u001b[0m: 'module' object has no attribute 'zeroes'"
     ]
    }
   ],
   "source": [
    "# 创建3D numpy数组\n",
    "arr = np.zeroes(3,3,3)\n",
    "\n",
    "# 将ndarray转为matrix\n",
    "mat = np.matrix(arr)\n"
   ]
  },
  {
   "cell_type": "markdown",
   "metadata": {},
   "source": [
    "### 数组的创建和数据类型"
   ]
  },
  {
   "cell_type": "code",
   "execution_count": 32,
   "metadata": {
    "collapsed": false
   },
   "outputs": [
    {
     "data": {
      "text/plain": [
       "(10000,)"
      ]
     },
     "execution_count": 32,
     "metadata": {},
     "output_type": "execute_result"
    }
   ],
   "source": [
    "alist = [1,2,3]\n",
    "arr = np.array(alist)\n",
    "\n",
    "#初值为0的数组\n",
    "arr = np.zeros(5)\n",
    "\n",
    "#0-100\n",
    "arr = np.arange(100)\n",
    "\n",
    "#10-100\n",
    "arr = np.arange(10,100)\n",
    "\n",
    "#0至1之间的100个\n",
    "arr = np.linspace(0,1,100)\n",
    "\n",
    "#10为底的对数\n",
    "arr = np.logspace(0,1,100,base = 10.0)\n",
    "\n",
    "#5x5的数组\n",
    "image = np.zeros((5,5))\n",
    "\n",
    "# 5x5x5的立方体，初始为0，转为整型，再+1\n",
    "cube = np.zeros((5,5,5)).astype(int) + 1\n",
    "\n",
    "# 16bit浮点数\n",
    "cube = np.ones((5,5,5)).astype(np.float16)\n",
    "\n",
    "# 2个元素值都为0，类型为int\n",
    "arr = np.zeros(2,dtype=int)\n",
    "\n",
    "# 2个元素值为0，类型为float32\n",
    "arr = np.zeros(2,dtype=np.float32)\n",
    "\n",
    "# 数组元素为0至999\n",
    "arr1d = np.arange(1000)\n",
    "\n",
    "# 将arr1d转为10x10x10的3维数组\n",
    "arr3d = arr1d.reshape((10,10,10))\n",
    "\n",
    "# 另一种转换方式\n",
    "arr3d = np.reshape(arr1d,(10,10,10))\n",
    "\n",
    "# 将多维数组，平坦化（flatten）\n",
    "arr4d = np.zeros((10,10,10,10))\n",
    "\n",
    "arr1d = arr4d.ravel()\n",
    "np.shape(arr1d)\n",
    "arr1d.shape"
   ]
  },
  {
   "cell_type": "markdown",
   "metadata": {},
   "source": [
    "`注意`:上面对数组结构的修改只是提供了对同一份内存数据的不同视图。修改任何一个数组，都会影响所有数组。如果希望单独修改每一个数组，则应该使用'`numpy.copy`对数组进行复制。\n",
    "\n",
    "### 记录数组（`recarray`元素为结构化数据）"
   ]
  },
  {
   "cell_type": "code",
   "execution_count": 46,
   "metadata": {
    "collapsed": false
   },
   "outputs": [
    {
     "name": "stdout",
     "output_type": "stream",
     "text": [
      "[(0, 0.0, '') (0, 0.0, '')]\n",
      "[(1, 2.0, 'Hello') (2, 3.0, 'World')]\n"
     ]
    }
   ],
   "source": [
    "# 创建数组，并定义列类型，分别为32bit int，32bit float和10字符长度的字符串\n",
    "recarr = np.zeros((2,),dtype=('i4,f4,a10'))\n",
    "print(recarr)\n",
    "toadd = [(1,2.,'Hello'),(2,3.,\"World\")]\n",
    "recarr[:] = toadd\n",
    "print(recarr)"
   ]
  },
  {
   "cell_type": "code",
   "execution_count": 47,
   "metadata": {
    "collapsed": false
   },
   "outputs": [
    {
     "name": "stdout",
     "output_type": "stream",
     "text": [
      "[(1, 0.0, 'Hello'), (2, 1.0, 'World')]\n"
     ]
    }
   ],
   "source": [
    "#使用python自带的zip方法来生成数组的行\n",
    "col1 = np.arange(2)+1\n",
    "col2 = np.arange(2,dtype=np.float32)\n",
    "col3 = ['Hello','World']\n",
    "\n",
    "toadd = zip(col1,col2,col3)\n",
    "\n",
    "#赋值\n",
    "recarr[:] = toadd\n",
    "print(toadd)"
   ]
  },
  {
   "cell_type": "code",
   "execution_count": 52,
   "metadata": {
    "collapsed": false
   },
   "outputs": [
    {
     "data": {
      "text/plain": [
       "array([1, 2], dtype=int32)"
      ]
     },
     "execution_count": 52,
     "metadata": {},
     "output_type": "execute_result"
    }
   ],
   "source": [
    "#给每列定义名字\n",
    "recarr.dtype.names = ('Integers','Floats','String')\n",
    "#通过名字取一列\n",
    "recarr['Integers']"
   ]
  },
  {
   "cell_type": "markdown",
   "metadata": {},
   "source": [
    "### 索引和切片\n",
    "python中的list可以通过索引取得元素，但是无法不遍历而获取整列。在NumPy中，索引则更为灵活。"
   ]
  },
  {
   "cell_type": "code",
   "execution_count": 58,
   "metadata": {
    "collapsed": false
   },
   "outputs": [
    {
     "name": "stdout",
     "output_type": "stream",
     "text": [
      "2\n",
      "2\n",
      "[2 4]\n",
      "[3 4]\n"
     ]
    }
   ],
   "source": [
    "# python数组\n",
    "alist = [[1,2],[3,4]]\n",
    "#取(0,1)位置的元素\n",
    "print(alist[0][1])\n",
    "# 无法取到第二列\n",
    "\n",
    "arr = np.array(alist)\n",
    "#取(0,1)位置的元素\n",
    "print(arr[0,1])\n",
    "\n",
    "#取右边的列\n",
    "print(arr[:,1])\n",
    "\n",
    "#取下面的行\n",
    "print(arr[1,:])"
   ]
  },
  {
   "cell_type": "markdown",
   "metadata": {},
   "source": [
    "复杂的条件索引可以使用`numpy.where()`。使用这个函数可以基于条件返回需要的数据，而不通过索引。"
   ]
  },
  {
   "cell_type": "code",
   "execution_count": 66,
   "metadata": {
    "collapsed": false
   },
   "outputs": [
    {
     "name": "stdout",
     "output_type": "stream",
     "text": [
      "(array([2, 3, 4]),)\n",
      "[3 4 5]\n"
     ]
    }
   ],
   "source": [
    "arr = np.arange(5)+1\n",
    "\n",
    "# 所有大于2的元素的索引\n",
    "index = np.where(arr>2)\n",
    "print(index)\n",
    "\n",
    "new_arr = arr[index]\n",
    "print(new_arr)"
   ]
  },
  {
   "cell_type": "code",
   "execution_count": 68,
   "metadata": {
    "collapsed": false
   },
   "outputs": [
    {
     "name": "stdout",
     "output_type": "stream",
     "text": [
      "[1 2]\n",
      "[False False  True  True  True]\n",
      "[3 4 5]\n"
     ]
    }
   ],
   "source": [
    "#删除元素\n",
    "new_arr = np.delete(arr,index)\n",
    "\n",
    "print(new_arr)\n",
    "\n",
    "#使用布尔值代替where进行过滤\n",
    "index = arr > 2\n",
    "print(index)\n",
    "new_arr = arr[index]\n",
    "print(new_arr)"
   ]
  },
  {
   "cell_type": "markdown",
   "metadata": {},
   "source": [
    "在元素数量较大时，使用布尔值过滤通常会更快。还可以使用`~`对数组中的布尔值取反，它的速度会比重新执行`numpy.where`函数更快。"
   ]
  },
  {
   "cell_type": "markdown",
   "metadata": {},
   "source": [
    "## 布尔语句和NumPy数组\n",
    "\n",
    "布尔语句通常与`and`和`or`操作符组合使用，用于布尔值比较。但是在NumPy数组中，你可以只能使用`&`和`|`，这使得能快速的比较布尔值。\n",
    "\n",
    "下例使用数组模拟图像:\n",
    "![图示NumPy的数组索引](images/figure2-1.png \"图示NumPy的数组索引\")"
   ]
  },
  {
   "cell_type": "code",
   "execution_count": 74,
   "metadata": {
    "collapsed": false
   },
   "outputs": [],
   "source": [
    "#创建图像\n",
    "img1 = np.zeros((20,20)) + 3\n",
    "#第4行至倒数4行，第4列至倒数4列设置为6\n",
    "img1[4:-4,4:-4] = 6\n",
    "#第7行至倒数7行，第7列至倒数7列设置为9\n",
    "img1[7:-7,7:-7] = 9\n",
    "#生成图像A\n",
    "\n",
    "#过滤所有大于2小于6的元素设置为0\n",
    "index1 = img1 > 2\n",
    "index2 = img1 < 6\n",
    "#and组合\n",
    "compound_index = index1 & index2\n",
    "#也可以写作compound_index (img1 > 3) & (img1 < 7)的形式\n",
    "img2 = np.copy(img1)\n",
    "img2[compound_index]=0\n",
    "#生成图像B\n",
    "\n",
    "#不为9或大于2小于6的元素设置为0(只保留了为6的环状)\n",
    "index3 = img1 == 9\n",
    "index4 = (index1 & index2) | index3\n",
    "img3 = np.copy(img1)\n",
    "img3[index4] = 0\n",
    "#生成图像C"
   ]
  },
  {
   "cell_type": "markdown",
   "metadata": {},
   "source": [
    "`注意`：在构建组合布尔参数时，需要使用括号。"
   ]
  },
  {
   "cell_type": "code",
   "execution_count": 77,
   "metadata": {
    "collapsed": false
   },
   "outputs": [],
   "source": [
    "import numpy.random as rand\n",
    "#创建100个元素的随机数组\n",
    "a = rand.randn(100)\n",
    "\n",
    "index = a > 0.2\n",
    "b = a[index]\n",
    "\n",
    "b = b ** 2 - 2\n",
    "\n",
    "#修改原始的数组a\n",
    "a[index] = b"
   ]
  },
  {
   "cell_type": "markdown",
   "metadata": {},
   "source": [
    "## 文件读写\n",
    "\n",
    "### 文本文件\n",
    "\n",
    "通过NumPy提供的`loadtxt`方法可以直接将数据加载为`numpy.ndarray`格式。如果数据是按行和列的形式组织的，loadtxt将会使用合适的数据类型加载数据。可以使用`numpy.savetxt`来快速生成`numpy.readtxt`。"
   ]
  },
  {
   "cell_type": "code",
   "execution_count": 96,
   "metadata": {
    "collapsed": false
   },
   "outputs": [
    {
     "name": "stdout",
     "output_type": "stream",
     "text": [
      "[[ 0.77167676  0.92569314  0.85121034]\n",
      " [ 0.57092315  0.54171279  0.28679945]\n",
      " [ 0.87396743  0.95719303  0.31715228]]\n",
      "7.716767609951945550e-01 9.256931439674558337e-01 8.512103364017590268e-01\r\n",
      "5.709231475688880675e-01 5.417127876887067872e-01 2.867994483215262624e-01\r\n",
      "8.739674341488654630e-01 9.571930323898591997e-01 3.171522785297289371e-01\r\n"
     ]
    }
   ],
   "source": [
    "a = rand.rand(9)\n",
    "a=a.reshape(3,3)\n",
    "np.savetxt('chap02.txt',a)\n",
    "b = np.loadtxt('chap02.txt')\n",
    "print(b)\n",
    "%cat chap02.txt"
   ]
  },
  {
   "cell_type": "markdown",
   "metadata": {},
   "source": [
    "如果每列的格式不同，仍然可以通过指定列类型来加载数据。最终加载的数据是`recarray`。"
   ]
  },
  {
   "cell_type": "code",
   "execution_count": 107,
   "metadata": {
    "collapsed": false
   },
   "outputs": [
    {
     "data": {
      "text/plain": [
       "array(['XR21', 'XR22'], \n",
       "      dtype='|S4')"
      ]
     },
     "execution_count": 107,
     "metadata": {},
     "output_type": "execute_result"
    }
   ],
   "source": [
    "#加载格式化数据\n",
    "table = np.loadtxt('chap02-example.txt',\n",
    "                  dtype={'names':('ID','Result','Type'),\n",
    "                         'formats':('S4','f4','i2')})\n",
    "table['ID']"
   ]
  },
  {
   "cell_type": "markdown",
   "metadata": {},
   "source": [
    "至NumPy1.8，numpy都没有将`recarry`数据保存为文本的方法。如果需要保存recarry结构数据，可以使用`matplotlib.mlab`。\n",
    "\n",
    "### 二进制文件\n",
    "\n",
    "二进制文件在文件大小和读写速度上都有优势。\n",
    "\n",
    "在`NumPy`中可以使用`numpy.save`和`numpy.load`访问二进制数据。主要限制在于只能使用NumPy进行读取。如果对数据的移植性有要求，应该使用`scipy.io`。"
   ]
  },
  {
   "cell_type": "code",
   "execution_count": 111,
   "metadata": {
    "collapsed": false
   },
   "outputs": [
    {
     "data": {
      "text/plain": [
       "(1000, 1000)"
      ]
     },
     "execution_count": 111,
     "metadata": {},
     "output_type": "execute_result"
    }
   ],
   "source": [
    "data = np.empty((1000,1000))\n",
    "np.save('chap02.npy',data)\n",
    "\n",
    "#使用savez会对数据进行压缩，生成的文件会更小\n",
    "np.savez('chap02.npz',data)\n",
    "\n",
    "#加载数据\n",
    "newdata = np.load('chap02.npy')\n",
    "newdata.shape"
   ]
  },
  {
   "cell_type": "markdown",
   "metadata": {},
   "source": [
    "与文本文件不能直接保存recarray数据不同。numpy.save和numpy.savez都可以处理numpy.recarray对象。"
   ]
  },
  {
   "cell_type": "markdown",
   "metadata": {},
   "source": [
    "## 数学计算\n",
    "\n",
    "Python自带的`math`模块无法处理NumPy数组。NumPy数组自带了数学计算工具。这些工具是专门针对NumPy数组对象进行了优化的。\n",
    "\n",
    "\n",
    "### 线性代数\n",
    "\n",
    "默认情况下NumPy的数组与线性代数中的矩阵并不相同。数学操作将被应用到数组的每个元素上。如果要进行转置和点乘，则可以使用`numpy.transpose`和`numpy.dot`。如果使用`numpy.matrix`类型的对象，则可以使用纯粹的矩阵运算。\n",
    "\n",
    "示例矩阵：\n",
    "$$ \n",
    "\\begin{align} \\\\\n",
    "3x + 6y - 5z = 12 \\\\\n",
    "x - 3y + 2z = -2 \\\\\n",
    "5x -y + 4z = 10 \\\\\n",
    "\\end{align} \n",
    "$$\n",
    "\n",
    "$$\n",
    "\\begin{bmatrix}\n",
    "3 & 6 & -5 \\\\\n",
    "1 & -3 & 2 \\\\\n",
    "5 & -1 & 4 \\\\\n",
    "\\end{bmatrix} \n",
    "\\begin{bmatrix}\n",
    "x \\\\\n",
    "y \\\\\n",
    "z \\\\\n",
    "\\end{bmatrix} = \n",
    "\\begin{bmatrix}\n",
    "12 \\\\\n",
    "-2 \\\\\n",
    "10 \\\\\n",
    "\\end{bmatrix}\n",
    "$$\n",
    "\n",
    "下面使用矩阵来表达 $ AX = B $，解该矩阵方程，即：$ X = A^{-1}B $"
   ]
  },
  {
   "cell_type": "code",
   "execution_count": 121,
   "metadata": {
    "collapsed": false
   },
   "outputs": [
    {
     "name": "stdout",
     "output_type": "stream",
     "text": [
      "The slowest run took 4.52 times longer than the fastest. This could mean that an intermediate result is being cached \n",
      "10000 loops, best of 3: 28.8 µs per loop\n"
     ]
    },
    {
     "data": {
      "text/plain": [
       "matrix([[ 1.75],\n",
       "        [ 1.75],\n",
       "        [ 0.75]])"
      ]
     },
     "execution_count": 121,
     "metadata": {},
     "output_type": "execute_result"
    }
   ],
   "source": [
    "A = np.matrix([[3,6,-5],\n",
    "              [1,-3,2],\n",
    "              [5,-1,4]])\n",
    "B = np.matrix([[12],\n",
    "              [-2],\n",
    "              [10]])\n",
    "\n",
    "#通过A的逆求出X，这里没有检查A的行列式是否为0\n",
    "#可以使用numpy.linalg.svd进行检查\n",
    "%timeit X = A ** (-1) * B\n",
    "X"
   ]
  },
  {
   "cell_type": "markdown",
   "metadata": {},
   "source": [
    "下面不使用numpy.matrix来解该方程。"
   ]
  },
  {
   "cell_type": "code",
   "execution_count": 120,
   "metadata": {
    "collapsed": false
   },
   "outputs": [
    {
     "name": "stdout",
     "output_type": "stream",
     "text": [
      "The slowest run took 5.85 times longer than the fastest. This could mean that an intermediate result is being cached \n",
      "100000 loops, best of 3: 11 µs per loop\n"
     ]
    },
    {
     "data": {
      "text/plain": [
       "array([[ 1.75],\n",
       "       [ 1.75],\n",
       "       [ 0.75]])"
      ]
     },
     "execution_count": 120,
     "metadata": {},
     "output_type": "execute_result"
    }
   ],
   "source": [
    "a = np.array([[3,6,-5],\n",
    "              [1,-3,2],\n",
    "              [5,-1,4]])\n",
    "b = np.array([[12],\n",
    "              [-2],\n",
    "              [10]])\n",
    "\n",
    "#通过A的逆来计算x\n",
    "%timeit x = np.linalg.inv(a).dot(b)\n",
    "x"
   ]
  },
  {
   "cell_type": "markdown",
   "metadata": {},
   "source": [
    "上面两种方法都可以进行线性代数计算，虽然使用numpy.matrix更直观，但是实际应用中使用numpy.array更多一些。NumPy的数组广泛的被使用在Python的各种科学计算环境中，bug比numpy.matrix要更少一些，另外，使用numpy.array的方法计算速度会更快一点。\n",
    "\n",
    "如果将numpy.matrix当作numpy.array传递给函数时可能会产生麻烦，所以应该尽量使用numpy.array。"
   ]
  },
  {
   "cell_type": "code",
   "execution_count": null,
   "metadata": {
    "collapsed": true
   },
   "outputs": [],
   "source": []
  }
 ],
 "metadata": {
  "kernelspec": {
   "display_name": "Python 2",
   "language": "python",
   "name": "python2"
  },
  "language_info": {
   "codemirror_mode": {
    "name": "ipython",
    "version": 2
   },
   "file_extension": ".py",
   "mimetype": "text/x-python",
   "name": "python",
   "nbconvert_exporter": "python",
   "pygments_lexer": "ipython2",
   "version": "2.7.9"
  }
 },
 "nbformat": 4,
 "nbformat_minor": 0
}
